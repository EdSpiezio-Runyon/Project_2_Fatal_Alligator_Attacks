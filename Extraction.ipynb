{
 "cells": [
  {
   "cell_type": "code",
   "execution_count": 1,
   "id": "014736b2",
   "metadata": {},
   "outputs": [
    {
     "data": {
      "text/html": [
       "<div>\n",
       "<style scoped>\n",
       "    .dataframe tbody tr th:only-of-type {\n",
       "        vertical-align: middle;\n",
       "    }\n",
       "\n",
       "    .dataframe tbody tr th {\n",
       "        vertical-align: top;\n",
       "    }\n",
       "\n",
       "    .dataframe thead th {\n",
       "        text-align: right;\n",
       "    }\n",
       "</style>\n",
       "<table border=\"1\" class=\"dataframe\">\n",
       "  <thead>\n",
       "    <tr style=\"text-align: right;\">\n",
       "      <th></th>\n",
       "      <th>Date</th>\n",
       "      <th>UNIX_start_date</th>\n",
       "      <th>UNIX_end_date</th>\n",
       "      <th>First Name</th>\n",
       "      <th>Last Name</th>\n",
       "      <th>Age</th>\n",
       "      <th>Sex</th>\n",
       "      <th>City</th>\n",
       "      <th>State</th>\n",
       "      <th>Lat</th>\n",
       "      <th>Lng</th>\n",
       "      <th>Details</th>\n",
       "    </tr>\n",
       "  </thead>\n",
       "  <tbody>\n",
       "    <tr>\n",
       "      <th>0</th>\n",
       "      <td>2022-08-15</td>\n",
       "      <td>1.660522e+09</td>\n",
       "      <td>1.660522e+09</td>\n",
       "      <td>Nancy</td>\n",
       "      <td>Becker</td>\n",
       "      <td>88</td>\n",
       "      <td>female</td>\n",
       "      <td>Hilton Head Island</td>\n",
       "      <td>South Carolina</td>\n",
       "      <td>32.22</td>\n",
       "      <td>-80.75</td>\n",
       "      <td>The victim fell into a pond in a gated communi...</td>\n",
       "    </tr>\n",
       "    <tr>\n",
       "      <th>1</th>\n",
       "      <td>2022-07-15</td>\n",
       "      <td>1.657843e+09</td>\n",
       "      <td>1.657843e+09</td>\n",
       "      <td>Rose Marie</td>\n",
       "      <td>Wiegand</td>\n",
       "      <td>81</td>\n",
       "      <td>female</td>\n",
       "      <td>Englewood</td>\n",
       "      <td>Florida</td>\n",
       "      <td>26.96</td>\n",
       "      <td>-82.35</td>\n",
       "      <td>The victim fell into a pond along a golf cours...</td>\n",
       "    </tr>\n",
       "    <tr>\n",
       "      <th>2</th>\n",
       "      <td>2022-06-24</td>\n",
       "      <td>1.656029e+09</td>\n",
       "      <td>1.656029e+09</td>\n",
       "      <td>Micheal</td>\n",
       "      <td>Burstein</td>\n",
       "      <td>75</td>\n",
       "      <td>male</td>\n",
       "      <td>Myrtle Beach</td>\n",
       "      <td>South Carolina</td>\n",
       "      <td>33.69</td>\n",
       "      <td>-78.89</td>\n",
       "      <td>The victim was dragged into a pond in Myrtle B...</td>\n",
       "    </tr>\n",
       "    <tr>\n",
       "      <th>3</th>\n",
       "      <td>2022-05-31</td>\n",
       "      <td>1.653955e+09</td>\n",
       "      <td>1.653955e+09</td>\n",
       "      <td>Sean</td>\n",
       "      <td>McGuinness</td>\n",
       "      <td>47</td>\n",
       "      <td>male</td>\n",
       "      <td>Largo</td>\n",
       "      <td>Florida</td>\n",
       "      <td>27.91</td>\n",
       "      <td>-82.79</td>\n",
       "      <td>The victim was attacked while trying to retrie...</td>\n",
       "    </tr>\n",
       "    <tr>\n",
       "      <th>4</th>\n",
       "      <td>2021-08-30</td>\n",
       "      <td>1.630282e+09</td>\n",
       "      <td>1.630282e+09</td>\n",
       "      <td>Timothy</td>\n",
       "      <td>Satterlee</td>\n",
       "      <td>71</td>\n",
       "      <td>male</td>\n",
       "      <td>Slidell</td>\n",
       "      <td>Louisiana</td>\n",
       "      <td>30.28</td>\n",
       "      <td>-89.78</td>\n",
       "      <td>The victim was attacked in floodwaters of Hurr...</td>\n",
       "    </tr>\n",
       "  </tbody>\n",
       "</table>\n",
       "</div>"
      ],
      "text/plain": [
       "         Date  UNIX_start_date  UNIX_end_date  First Name   Last Name Age  \\\n",
       "0  2022-08-15     1.660522e+09   1.660522e+09      Nancy       Becker  88   \n",
       "1  2022-07-15     1.657843e+09   1.657843e+09  Rose Marie     Wiegand  81   \n",
       "2  2022-06-24     1.656029e+09   1.656029e+09    Micheal     Burstein  75   \n",
       "3  2022-05-31     1.653955e+09   1.653955e+09       Sean   McGuinness  47   \n",
       "4  2021-08-30     1.630282e+09   1.630282e+09    Timothy    Satterlee  71   \n",
       "\n",
       "      Sex                City           State    Lat    Lng  \\\n",
       "0  female  Hilton Head Island  South Carolina  32.22 -80.75   \n",
       "1  female           Englewood         Florida  26.96 -82.35   \n",
       "2    male        Myrtle Beach  South Carolina  33.69 -78.89   \n",
       "3    male               Largo         Florida  27.91 -82.79   \n",
       "4    male             Slidell       Louisiana  30.28 -89.78   \n",
       "\n",
       "                                             Details  \n",
       "0  The victim fell into a pond in a gated communi...  \n",
       "1  The victim fell into a pond along a golf cours...  \n",
       "2  The victim was dragged into a pond in Myrtle B...  \n",
       "3  The victim was attacked while trying to retrie...  \n",
       "4  The victim was attacked in floodwaters of Hurr...  "
      ]
     },
     "execution_count": 1,
     "metadata": {},
     "output_type": "execute_result"
    }
   ],
   "source": [
    "# Dependencies and Setup\n",
    "import matplotlib.pyplot as plt\n",
    "import pandas as pd\n",
    "import numpy as np\n",
    "import requests\n",
    "import time\n",
    "import os\n",
    "from scipy.stats import linregress\n",
    "import json\n",
    "\n",
    "# Read CSV lat/long\n",
    "lat_long_df = pd.read_csv('fatal_alligator_attacks_US_with_latlng.csv')\n",
    "lat_long_df.head()"
   ]
  },
  {
   "cell_type": "code",
   "execution_count": 3,
   "id": "ba8e7066",
   "metadata": {},
   "outputs": [
    {
     "name": "stdout",
     "output_type": "stream",
     "text": [
      "Beginning Data Retrieval\n",
      "-----------------------------\n",
      "not found. Skipping...\n",
      "not found. Skipping...\n",
      "not found. Skipping...\n",
      "not found. Skipping...\n"
     ]
    }
   ],
   "source": [
    "url='https://archive-api.open-meteo.com/v1/era5?latitude='\n",
    "\n",
    "weather = []\n",
    "\n",
    "print('Beginning Data Retrieval')     \n",
    "print('-----------------------------')\n",
    "for x in range(len(lat_long_df)):\n",
    "    lat = lat_long_df.iloc[x,9]\n",
    "    lon = lat_long_df.iloc[x,10]\n",
    "    date = lat_long_df.iloc[x,0]\n",
    "    \n",
    "    response=requests.get(f\"{url}{lat}&longitude={lon}&start_date={date}&end_date={date}&daily=rain_sum&daily=temperature_2m_max&timezone=CST&temperature_unit=fahrenheit\").json()\n",
    "        \n",
    "    try:\n",
    "        lat_api = response['latitude']\n",
    "        lon_api = response['longitude']\n",
    "        rain = response['daily']['rain_sum']\n",
    "        temp = response['daily']['temperature_2m_max']\n",
    "        \n",
    "    except KeyError:\n",
    "             print('not found. Skipping...')\n",
    "\n",
    "    weather.append({\n",
    "        'Lat': lat_api,\n",
    "        'Lng': lon_api,\n",
    "        'Max Temp (F)': temp,\n",
    "        'Rain (mm)' : rain})\n",
    "\n",
    "\n",
    "    "
   ]
  },
  {
   "cell_type": "code",
   "execution_count": 7,
   "id": "4bea1028",
   "metadata": {},
   "outputs": [],
   "source": [
    "weather_df = pd.DataFrame(weather)\n",
    "weather_df.to_csv(\"Alligator_Weather.csv\",index=False)"
   ]
  },
  {
   "cell_type": "code",
   "execution_count": 5,
   "id": "b92520aa",
   "metadata": {},
   "outputs": [
    {
     "ename": "AttributeError",
     "evalue": "'list' object has no attribute 'replace'",
     "output_type": "error",
     "traceback": [
      "\u001b[1;31m---------------------------------------------------------------------------\u001b[0m",
      "\u001b[1;31mAttributeError\u001b[0m                            Traceback (most recent call last)",
      "\u001b[1;32md:\\Bootcamp_DA\\Challenges\\Project_2_Fatal_Alligator_Attacks\\weather_api_pull.ipynb Cell 5\u001b[0m in \u001b[0;36m<cell line: 1>\u001b[1;34m()\u001b[0m\n\u001b[1;32m----> <a href='vscode-notebook-cell:/d%3A/Bootcamp_DA/Challenges/Project_2_Fatal_Alligator_Attacks/weather_api_pull.ipynb#W4sZmlsZQ%3D%3D?line=0'>1</a>\u001b[0m weather_df[\u001b[39m\"\u001b[39m\u001b[39mMax Temp (F)\u001b[39m\u001b[39m\"\u001b[39m] \u001b[39m=\u001b[39m weather_df[\u001b[39m\"\u001b[39;49m\u001b[39mMax Temp (F)\u001b[39;49m\u001b[39m\"\u001b[39;49m]\u001b[39m.\u001b[39;49mapply(\u001b[39mlambda\u001b[39;49;00m x:x\u001b[39m.\u001b[39;49mreplace(\u001b[39m'\u001b[39;49m\u001b[39m[\u001b[39;49m\u001b[39m'\u001b[39;49m,\u001b[39m'\u001b[39;49m\u001b[39m'\u001b[39;49m))\n",
      "File \u001b[1;32md:\\Anaconda\\lib\\site-packages\\pandas\\core\\series.py:4433\u001b[0m, in \u001b[0;36mSeries.apply\u001b[1;34m(self, func, convert_dtype, args, **kwargs)\u001b[0m\n\u001b[0;32m   4323\u001b[0m \u001b[39mdef\u001b[39;00m \u001b[39mapply\u001b[39m(\n\u001b[0;32m   4324\u001b[0m     \u001b[39mself\u001b[39m,\n\u001b[0;32m   4325\u001b[0m     func: AggFuncType,\n\u001b[1;32m   (...)\u001b[0m\n\u001b[0;32m   4328\u001b[0m     \u001b[39m*\u001b[39m\u001b[39m*\u001b[39mkwargs,\n\u001b[0;32m   4329\u001b[0m ) \u001b[39m-\u001b[39m\u001b[39m>\u001b[39m DataFrame \u001b[39m|\u001b[39m Series:\n\u001b[0;32m   4330\u001b[0m     \u001b[39m\"\"\"\u001b[39;00m\n\u001b[0;32m   4331\u001b[0m \u001b[39m    Invoke function on values of Series.\u001b[39;00m\n\u001b[0;32m   4332\u001b[0m \n\u001b[1;32m   (...)\u001b[0m\n\u001b[0;32m   4431\u001b[0m \u001b[39m    dtype: float64\u001b[39;00m\n\u001b[0;32m   4432\u001b[0m \u001b[39m    \"\"\"\u001b[39;00m\n\u001b[1;32m-> 4433\u001b[0m     \u001b[39mreturn\u001b[39;00m SeriesApply(\u001b[39mself\u001b[39;49m, func, convert_dtype, args, kwargs)\u001b[39m.\u001b[39;49mapply()\n",
      "File \u001b[1;32md:\\Anaconda\\lib\\site-packages\\pandas\\core\\apply.py:1082\u001b[0m, in \u001b[0;36mSeriesApply.apply\u001b[1;34m(self)\u001b[0m\n\u001b[0;32m   1078\u001b[0m \u001b[39mif\u001b[39;00m \u001b[39misinstance\u001b[39m(\u001b[39mself\u001b[39m\u001b[39m.\u001b[39mf, \u001b[39mstr\u001b[39m):\n\u001b[0;32m   1079\u001b[0m     \u001b[39m# if we are a string, try to dispatch\u001b[39;00m\n\u001b[0;32m   1080\u001b[0m     \u001b[39mreturn\u001b[39;00m \u001b[39mself\u001b[39m\u001b[39m.\u001b[39mapply_str()\n\u001b[1;32m-> 1082\u001b[0m \u001b[39mreturn\u001b[39;00m \u001b[39mself\u001b[39;49m\u001b[39m.\u001b[39;49mapply_standard()\n",
      "File \u001b[1;32md:\\Anaconda\\lib\\site-packages\\pandas\\core\\apply.py:1137\u001b[0m, in \u001b[0;36mSeriesApply.apply_standard\u001b[1;34m(self)\u001b[0m\n\u001b[0;32m   1131\u001b[0m         values \u001b[39m=\u001b[39m obj\u001b[39m.\u001b[39mastype(\u001b[39mobject\u001b[39m)\u001b[39m.\u001b[39m_values\n\u001b[0;32m   1132\u001b[0m         \u001b[39m# error: Argument 2 to \"map_infer\" has incompatible type\u001b[39;00m\n\u001b[0;32m   1133\u001b[0m         \u001b[39m# \"Union[Callable[..., Any], str, List[Union[Callable[..., Any], str]],\u001b[39;00m\n\u001b[0;32m   1134\u001b[0m         \u001b[39m# Dict[Hashable, Union[Union[Callable[..., Any], str],\u001b[39;00m\n\u001b[0;32m   1135\u001b[0m         \u001b[39m# List[Union[Callable[..., Any], str]]]]]\"; expected\u001b[39;00m\n\u001b[0;32m   1136\u001b[0m         \u001b[39m# \"Callable[[Any], Any]\"\u001b[39;00m\n\u001b[1;32m-> 1137\u001b[0m         mapped \u001b[39m=\u001b[39m lib\u001b[39m.\u001b[39;49mmap_infer(\n\u001b[0;32m   1138\u001b[0m             values,\n\u001b[0;32m   1139\u001b[0m             f,  \u001b[39m# type: ignore[arg-type]\u001b[39;49;00m\n\u001b[0;32m   1140\u001b[0m             convert\u001b[39m=\u001b[39;49m\u001b[39mself\u001b[39;49m\u001b[39m.\u001b[39;49mconvert_dtype,\n\u001b[0;32m   1141\u001b[0m         )\n\u001b[0;32m   1143\u001b[0m \u001b[39mif\u001b[39;00m \u001b[39mlen\u001b[39m(mapped) \u001b[39mand\u001b[39;00m \u001b[39misinstance\u001b[39m(mapped[\u001b[39m0\u001b[39m], ABCSeries):\n\u001b[0;32m   1144\u001b[0m     \u001b[39m# GH#43986 Need to do list(mapped) in order to get treated as nested\u001b[39;00m\n\u001b[0;32m   1145\u001b[0m     \u001b[39m#  See also GH#25959 regarding EA support\u001b[39;00m\n\u001b[0;32m   1146\u001b[0m     \u001b[39mreturn\u001b[39;00m obj\u001b[39m.\u001b[39m_constructor_expanddim(\u001b[39mlist\u001b[39m(mapped), index\u001b[39m=\u001b[39mobj\u001b[39m.\u001b[39mindex)\n",
      "File \u001b[1;32md:\\Anaconda\\lib\\site-packages\\pandas\\_libs\\lib.pyx:2870\u001b[0m, in \u001b[0;36mpandas._libs.lib.map_infer\u001b[1;34m()\u001b[0m\n",
      "\u001b[1;32md:\\Bootcamp_DA\\Challenges\\Project_2_Fatal_Alligator_Attacks\\weather_api_pull.ipynb Cell 5\u001b[0m in \u001b[0;36m<lambda>\u001b[1;34m(x)\u001b[0m\n\u001b[1;32m----> <a href='vscode-notebook-cell:/d%3A/Bootcamp_DA/Challenges/Project_2_Fatal_Alligator_Attacks/weather_api_pull.ipynb#W4sZmlsZQ%3D%3D?line=0'>1</a>\u001b[0m weather_df[\u001b[39m\"\u001b[39m\u001b[39mMax Temp (F)\u001b[39m\u001b[39m\"\u001b[39m] \u001b[39m=\u001b[39m weather_df[\u001b[39m\"\u001b[39m\u001b[39mMax Temp (F)\u001b[39m\u001b[39m\"\u001b[39m]\u001b[39m.\u001b[39mapply(\u001b[39mlambda\u001b[39;00m x:x\u001b[39m.\u001b[39;49mreplace(\u001b[39m'\u001b[39m\u001b[39m[\u001b[39m\u001b[39m'\u001b[39m,\u001b[39m'\u001b[39m\u001b[39m'\u001b[39m))\n",
      "\u001b[1;31mAttributeError\u001b[0m: 'list' object has no attribute 'replace'"
     ]
    }
   ],
   "source": [
    "weather_df[\"Max Temp (F)\"] = weather_df[\"Max Temp (F)\"].apply(lambda x:x.replace('[',''))\n"
   ]
  },
  {
   "cell_type": "code",
   "execution_count": null,
   "id": "f4f6d0c1",
   "metadata": {},
   "outputs": [],
   "source": [
    "weather_df"
   ]
  }
 ],
 "metadata": {
  "kernelspec": {
   "display_name": "base",
   "language": "python",
   "name": "python3"
  },
  "language_info": {
   "codemirror_mode": {
    "name": "ipython",
    "version": 3
   },
   "file_extension": ".py",
   "mimetype": "text/x-python",
   "name": "python",
   "nbconvert_exporter": "python",
   "pygments_lexer": "ipython3",
   "version": "3.9.12 (main, Apr  4 2022, 05:22:27) [MSC v.1916 64 bit (AMD64)]"
  },
  "vscode": {
   "interpreter": {
    "hash": "88279d2366fe020547cde40dd65aa0e3aa662a6ec1f3ca12d88834876c85e1a6"
   }
  }
 },
 "nbformat": 4,
 "nbformat_minor": 5
}
