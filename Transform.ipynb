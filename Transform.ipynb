{
 "cells": [
  {
   "cell_type": "code",
   "execution_count": 1,
   "id": "cf422fa0-fac4-4e69-8cb8-1a441b835ea5",
   "metadata": {},
   "outputs": [],
   "source": [
    "# Dependencies\n",
    "import pandas as pd\n",
    "import numpy as np\n",
    "import requests\n",
    "from sqlalchemy import create_engine\n",
    "\n",
    "df1 = pd.read_csv('Alligator_Weather.csv')"
   ]
  },
  {
   "cell_type": "code",
   "execution_count": 2,
   "id": "84e3d02d-b5fc-4937-b44c-95a8de3825b9",
   "metadata": {},
   "outputs": [
    {
     "name": "stderr",
     "output_type": "stream",
     "text": [
      "C:\\Users\\a_don\\AppData\\Local\\Temp\\ipykernel_23680\\2530302625.py:1: FutureWarning: The default value of regex will change from True to False in a future version. In addition, single character regular expressions will *not* be treated as literal strings when regex=True.\n",
      "  df1[\"Max Temp (F)\"] = df1[\"Max Temp (F)\"].str.replace('[', '')\n",
      "C:\\Users\\a_don\\AppData\\Local\\Temp\\ipykernel_23680\\2530302625.py:2: FutureWarning: The default value of regex will change from True to False in a future version. In addition, single character regular expressions will *not* be treated as literal strings when regex=True.\n",
      "  df1[\"Max Temp (F)\"] = df1[\"Max Temp (F)\"].str.replace(']', '')\n",
      "C:\\Users\\a_don\\AppData\\Local\\Temp\\ipykernel_23680\\2530302625.py:5: FutureWarning: The default value of regex will change from True to False in a future version. In addition, single character regular expressions will *not* be treated as literal strings when regex=True.\n",
      "  df1[\"Rain (mm)\"] = df1[\"Rain (mm)\"].str.replace('[', '')\n",
      "C:\\Users\\a_don\\AppData\\Local\\Temp\\ipykernel_23680\\2530302625.py:6: FutureWarning: The default value of regex will change from True to False in a future version. In addition, single character regular expressions will *not* be treated as literal strings when regex=True.\n",
      "  df1[\"Rain (mm)\"] = df1[\"Rain (mm)\"].str.replace(']', '')\n"
     ]
    }
   ],
   "source": [
    "df1[\"Max Temp (F)\"] = df1[\"Max Temp (F)\"].str.replace('[', '')\n",
    "df1[\"Max Temp (F)\"] = df1[\"Max Temp (F)\"].str.replace(']', '')\n",
    "df1[\"Max Temp (F)\"] = df1[\"Max Temp (F)\"].astype(float)\n",
    "\n",
    "df1[\"Rain (mm)\"] = df1[\"Rain (mm)\"].str.replace('[', '')\n",
    "df1[\"Rain (mm)\"] = df1[\"Rain (mm)\"].str.replace(']', '')\n",
    "df1[\"Rain (mm)\"] = df1[\"Rain (mm)\"].astype(float)\n"
   ]
  },
  {
   "cell_type": "code",
   "execution_count": 3,
   "id": "d4af824d-9626-44b8-9747-8297cbba0117",
   "metadata": {},
   "outputs": [],
   "source": [
    "df1.to_csv(\"Resource/API_weather.csv\",index=False)"
   ]
  }
 ],
 "metadata": {
  "kernelspec": {
   "display_name": "base",
   "language": "python",
   "name": "python3"
  },
  "language_info": {
   "codemirror_mode": {
    "name": "ipython",
    "version": 3
   },
   "file_extension": ".py",
   "mimetype": "text/x-python",
   "name": "python",
   "nbconvert_exporter": "python",
   "pygments_lexer": "ipython3",
   "version": "3.9.12"
  },
  "vscode": {
   "interpreter": {
    "hash": "88279d2366fe020547cde40dd65aa0e3aa662a6ec1f3ca12d88834876c85e1a6"
   }
  }
 },
 "nbformat": 4,
 "nbformat_minor": 5
}
